{
 "cells": [
  {
   "cell_type": "markdown",
   "metadata": {},
   "source": [
    "# Family Business Report\n",
    "## Paper 2: Network Trauma"
   ]
  },
  {
   "cell_type": "code",
   "execution_count": 1,
   "metadata": {},
   "outputs": [
    {
     "name": "stdout",
     "output_type": "stream",
     "text": [
      "Once deleted, variables cannot be recovered. Proceed (y/[n])? y\n"
     ]
    }
   ],
   "source": [
    "%reset\n",
    "import warnings\n",
    "warnings.filterwarnings(\"ignore\")"
   ]
  },
  {
   "cell_type": "markdown",
   "metadata": {},
   "source": [
    "\n",
    "## First analysis\n",
    "\n",
    "The first analysis will focus on some of the more interesting trauma related scales that were collected in the initial FBR"
   ]
  },
  {
   "cell_type": "code",
   "execution_count": 2,
   "metadata": {
    "collapsed": true,
    "scrolled": true
   },
   "outputs": [],
   "source": [
    "import pandas as pd\n",
    "import numpy as np\n",
    "\n",
    "file = 'C:\\\\Users\\\\HearneL\\\\AnacondaProjects\\\\FBR_Prevalence\\\\116_booklet_LJH.xlsx'\n",
    "df  = pd.read_excel(file,'116_booklet_LJH')\n",
    "\n",
    "PTSD = df['ICD_PTSD12m']\n",
    "PTSD = PTSD-1\n",
    "\n",
    "ID = df['CODE']\n",
    "TSCL = df.filter(regex='TSCL')\n",
    "PTCI = df.filter(regex='PTCI')\n",
    "K5 = df[['K6_sad','K6_nervous','K6_restless','K6_hopeless',\n",
    "         'K6_everythingeffort']\n",
    "       ]\n",
    "Age = df['Age_yr']"
   ]
  },
  {
   "cell_type": "markdown",
   "metadata": {},
   "source": [
    "### TSCL & PTCI require some more processing to derive the subscales\n",
    "\n",
    "Now we go through the TSCL and PTCI (as well as the K5) and add the items into subscales, making sure to remove any participants with missing data."
   ]
  },
  {
   "cell_type": "code",
   "execution_count": 3,
   "metadata": {
    "collapsed": true
   },
   "outputs": [],
   "source": [
    "def prepro(df,idx):\n",
    "    df = df.iloc[:,idx]\n",
    "    df = df.dropna(axis=0, how='all')\n",
    "    df = df.apply(lambda x:x.fillna(x.value_counts().index[0]))\n",
    "    df = df.sum(axis=1)\n",
    "    return df\n",
    "\n",
    "K5 = prepro(K5,[0,1,2,3,4])\n",
    "\n",
    "#Trauma Symptom Checklist subscales\n",
    "TSCL_diss = prepro(TSCL,[6, 13, 15, 24, 30, 37])\n",
    "TSCL_anxi = prepro(TSCL,[0, 3, 9, 15, 20, 26, 31, 33, 38])\n",
    "TSCL_depr = prepro(TSCL,[1, 2, 8, 14, 18, 19, 25, 32, 36])\n",
    "TSCL_sati = prepro(TSCL,[4, 6, 12, 20, 24, 28, 30])\n",
    "TSCL_slee = prepro(TSCL,[1, 7, 12, 18, 21, 27])\n",
    "TSCL_sepr = prepro(TSCL,[4, 8, 10, 16, 22, 28, 34, 39])\n",
    "\n",
    "#Posttraumatic cognitions inventory \n",
    "PTCI_nsel = prepro(PTCI,[1,2,3,4,5,8,11,12,14,15,18,19,22,23,24,26,27,\n",
    "                         28,30,31,32])\n",
    "PTCI_nsel = PTCI_nsel/21\n",
    "PTCI_nwrd = prepro(PTCI,[6,7,9,10,13,16,17,20,21,25,29])\n",
    "PTCI_nwrd = PTCI_nwrd/11\n",
    "PTCI_sebl = prepro(PTCI,[0,13,17,20,29])\n",
    "PTCI_sebl = PTCI_sebl/5"
   ]
  },
  {
   "cell_type": "markdown",
   "metadata": {},
   "source": [
    "### CIDI data variables\n",
    "\n",
    "Next, we load in the CIDI and calculate age related variables. Individuals reported their age at the time of event(s), so we search across all of them and find the smallest number."
   ]
  },
  {
   "cell_type": "code",
   "execution_count": 4,
   "metadata": {
    "collapsed": true
   },
   "outputs": [],
   "source": [
    "# CIDI information\n",
    "df  = pd.read_excel('STATA_booklet_LJH.xlsx','original_STATA')\n",
    "CIDIage = df[['pt34a','pt36a','pt37a','pt38a','pt39a',\n",
    "              'pt40a','pt41a','pt42a','pt43a','pt44a','pt45a',\n",
    "              'pt46a','pt47a','pt48a','pt49a',\n",
    "              'pt50a','pt50_1a','pt51a','pt52a','pt53a','pt54a',\n",
    "              'pt64a','pt59b_5']\n",
    "            ]\n",
    "\n",
    "CIDITrauma = pd.read_excel('STATA_booklet_LJH.xlsx','trauma_LJH')\n",
    "CIDITrauma = CIDITrauma.fillna(0)\n",
    "CIDITrauma[CIDITrauma==5]=0\n",
    "CIDIfreq = CIDITrauma.sum(axis=1)\n",
    "\n",
    "#Age related variables\n",
    "AgeAtFirstTrauma = CIDIage.min(axis=1)"
   ]
  },
  {
   "cell_type": "markdown",
   "metadata": {},
   "source": [
    "### Create preprocessed file\n",
    "Finally! We now put together the variables we are interested in and output a .csv file that we will use R to analyze."
   ]
  },
  {
   "cell_type": "code",
   "execution_count": 5,
   "metadata": {
    "collapsed": true
   },
   "outputs": [],
   "source": [
    "data = pd.concat([ID,CIDIfreq,AgeAtFirstTrauma,\n",
    "                  K5,\n",
    "                  TSCL_depr,TSCL_anxi,TSCL_diss,\n",
    "                  TSCL_sati,TSCL_sepr,TSCL_slee,\n",
    "                  PTCI_nsel,PTCI_nwrd,PTCI_sebl,\n",
    "                 ],axis=1\n",
    "                )\n",
    "data.columns = ['ID','Number of trauma','Age at first trauma',\n",
    "                'K-5',\n",
    "                'Depression','Anxiety','Dissociation',\n",
    "                'Sexual abuse','Sexual problems','Sleep disturbance',\n",
    "                'Negative self-view','Negative world-view','Self blame',\n",
    "               ]\n",
    "\n",
    "dataD = data.dropna(axis=0, how='any')\n",
    "# z-score the data (not needed but habit, I guess)\n",
    "cols = list(data.columns)\n",
    "\n",
    "for col in cols:\n",
    "    dataD[col] = (dataD[col] - dataD[col].mean())/dataD[col].std(ddof=0)\n",
    "\n",
    "dataD.to_csv('TraumaEffect_data_wAge_prepro.csv')\n",
    "finalID = dataD['ID']"
   ]
  },
  {
   "cell_type": "markdown",
   "metadata": {
    "collapsed": true
   },
   "source": [
    "## Second analysis\n",
    "### CIDI PTSD variables\n",
    "\n",
    "Note could be difficult to compare across this data and MUSP depending on whether they were diagnosed with the DSM or ICD.\n",
    "\n",
    "...According to the CIDI handbook/DSM IV we can collate data relating to:\n",
    "\n",
    "- intrusion & reexperiencing (5 questions)\n",
    "- avoidance & numbing (7 questions)\n",
    "- hyperarousal (5 questions)\n",
    "\n",
    "In the cidi participants are asked whether they experience aspects of these variables (across say 5 different questions) for their 'worst' trauma and a 'random' trauma. Here I've taken the total of each, and used the largest number - this is probably more similar to the DSM diagnoses than summing across all.\n",
    "\n",
    "It's important to note that I'm not including this as a diagnostic procedure - just so that we have some 'baseline' variables that readers would be familiar with."
   ]
  },
  {
   "cell_type": "code",
   "execution_count": 7,
   "metadata": {
    "collapsed": true
   },
   "outputs": [],
   "source": [
    "def DSMprepro(df,df2):\n",
    "    df[df==5]=0\n",
    "    df2[df2==5]=0\n",
    "\n",
    "    df = df.sum(axis = 1)\n",
    "    df2 = df2.sum(axis = 1)\n",
    "\n",
    "    df3 = pd.concat([df,df2],axis=1)\n",
    "    df3 = df3.max(axis=1)\n",
    "    return df3\n",
    "\n",
    "df  = pd.read_excel('STATA_booklet_LJH.xlsx','original_STATA')\n",
    "InRe = df[['pt86','pt87','pt88','pt89','pt90']]\n",
    "InRe2 = df[['pt222','pt223','pt224','pt225','pt226']]\n",
    "InRe = DSMprepro(InRe,InRe2)\n",
    "\n",
    "AvNu = df[['pt68','pt69','pt70','pt70','pt71','pt72','pt73','pt74']]\n",
    "AvNu2 = df[['pt208','pt209','pt210','pt210','pt211','pt212','pt213','pt214']]\n",
    "AvNu = DSMprepro(AvNu,AvNu2)\n",
    "\n",
    "HyAr = df[['pt102','pt103','pt104','pt105','pt106']]\n",
    "HyAr2 = df[['pt233','pt234','pt235','pt236','pt237']]\n",
    "HyAr = DSMprepro(HyAr,HyAr2)"
   ]
  },
  {
   "cell_type": "markdown",
   "metadata": {},
   "source": [
    "### Trauma Incidence variables (binary network)"
   ]
  },
  {
   "cell_type": "code",
   "execution_count": 6,
   "metadata": {},
   "outputs": [],
   "source": [
    "df  = pd.read_excel('116_booklet_LJH.xlsx','116_booklet_LJH')\n",
    "CulTrauma = df[[\"A_STOLENGEN\",\"B_PARENTSTOLENGEN\",\"C_SELFREMOVECIHLD\",\n",
    "               \"D_SIBLINGREMOVE\",\"E_CHILDRENTAKEGOVE\",\"F_RACISMDISCRIM\",\n",
    "                \"G_FAMILYNOTACCEPT\",\"H_COMMNOTACCEPT\"]\n",
    "               ]\n",
    "CulTrauma[CulTrauma==2]=0 #cultural traumas are 'reverse' coded , thus:\n",
    "CulTrauma[CulTrauma==3]=0 #3 = 'don't know'\n",
    "data = pd.concat([finalID,PTSD,CIDITrauma,CulTrauma],axis=1)\n",
    "data = data.dropna(axis=0, how='any')\n",
    "data.to_csv('TraumaEvents_data.csv')"
   ]
  },
  {
   "cell_type": "markdown",
   "metadata": {},
   "source": [
    "## Demographics and most traumatic event\n",
    "\n",
    "Before we move on to the next interesting analysis. Let's use the participant's we defined in the first section and calculate the demographic details that are of interest to us."
   ]
  },
  {
   "cell_type": "code",
   "execution_count": 7,
   "metadata": {},
   "outputs": [
    {
     "name": "stdout",
     "output_type": "stream",
     "text": [
      "93 /116 experienced a CIDI traumatic event\n",
      "6 had missing data\n",
      "87 were left in the cohort\n",
      "\n",
      "0  had experienced  0  events.\n",
      "24  had experienced  1  events.\n",
      "9  had experienced  2  events.\n",
      "15  had experienced  3  events.\n",
      "6  had experienced  4  events.\n",
      "33  had experienced equal to or greater than 5 events\n",
      "54  had experienced equal to or greater than 3 events\n",
      "\n",
      "kidnapped                                 9.195402\n",
      "life threat mva                          18.390805\n",
      "other life thread accident                8.045977\n",
      "natural disaster                         25.287356\n",
      "man made disaster                         6.896552\n",
      "life threat illness                       6.896552\n",
      "beaten by parents                        27.586207\n",
      "beaten by spouse                         49.425287\n",
      "beaten someone else                      12.643678\n",
      "mugged                                   17.241379\n",
      "sexual asault - rape                     37.931034\n",
      "sexual assault other                     35.632184\n",
      "someone close unexpectedly die           68.965517\n",
      "child life threatening injury            12.643678\n",
      "someone close extreme trauma             11.494253\n",
      "witness physical fight as child          37.931034\n",
      "see someone badly injured/killed         26.436782\n",
      "do something accidental death             6.896552\n",
      "intentional kill/injure                   8.045977\n",
      "other extremely traumatic not asked       2.298851\n",
      "other trauma don't want to talk about     3.448276\n",
      "dtype: float64\n"
     ]
    }
   ],
   "source": [
    "\n",
    "# number who experienced a traumatic event\n",
    "print(np.sum(CIDITrauma.sum(axis=1)>0),'/116 experienced a CIDI traumatic event')\n",
    "print(np.sum(CIDITrauma.sum(axis=1)>0)-len(dataD),'had missing data')\n",
    "print(len(dataD),'were left in the cohort')\n",
    "print()\n",
    "\n",
    "# how many different events did each person experience?\n",
    "data = pd.concat([finalID,CIDITrauma],axis=1)\n",
    "data = data.dropna(axis=0, how='any')\n",
    "data = data.drop(['ID'], axis=1)\n",
    "\n",
    "for i in range(0,5):\n",
    "    print(np.sum(data.sum(axis=1)==i),' had experienced ',i,' events.')\n",
    "print(np.sum(data.sum(axis=1)>=5),' had experienced equal to or greater than 5 events')\n",
    "print(np.sum(data.sum(axis=1)>=3),' had experienced equal to or greater than 3 events')\n",
    "print()\n",
    "\n",
    "# most common events.\n",
    "print(data.sum(axis = 0)/len(data)*100)"
   ]
  },
  {
   "cell_type": "markdown",
   "metadata": {},
   "source": [
    "## Figure 1\n",
    "\n",
    "Bargraph of most traumatic events."
   ]
  },
  {
   "cell_type": "code",
   "execution_count": 60,
   "metadata": {},
   "outputs": [
    {
     "data": {
      "text/html": [
       "<div>\n",
       "<style>\n",
       "    .dataframe thead tr:only-child th {\n",
       "        text-align: right;\n",
       "    }\n",
       "\n",
       "    .dataframe thead th {\n",
       "        text-align: left;\n",
       "    }\n",
       "\n",
       "    .dataframe tbody tr th {\n",
       "        vertical-align: top;\n",
       "    }\n",
       "</style>\n",
       "<table border=\"1\" class=\"dataframe\">\n",
       "  <thead>\n",
       "    <tr style=\"text-align: right;\">\n",
       "      <th></th>\n",
       "      <th>0</th>\n",
       "      <th>count</th>\n",
       "    </tr>\n",
       "  </thead>\n",
       "  <tbody>\n",
       "    <tr>\n",
       "      <th>4</th>\n",
       "      <td>unexpected death of a loved one</td>\n",
       "      <td>25</td>\n",
       "    </tr>\n",
       "    <tr>\n",
       "      <th>9</th>\n",
       "      <td>raped</td>\n",
       "      <td>9</td>\n",
       "    </tr>\n",
       "    <tr>\n",
       "      <th>1</th>\n",
       "      <td>witnessed physical fight at home</td>\n",
       "      <td>8</td>\n",
       "    </tr>\n",
       "    <tr>\n",
       "      <th>6</th>\n",
       "      <td>beaten up by a spouse or romantic partner</td>\n",
       "      <td>8</td>\n",
       "    </tr>\n",
       "    <tr>\n",
       "      <th>7</th>\n",
       "      <td>sexually assaulted</td>\n",
       "      <td>6</td>\n",
       "    </tr>\n",
       "    <tr>\n",
       "      <th>11</th>\n",
       "      <td>automobile accident</td>\n",
       "      <td>6</td>\n",
       "    </tr>\n",
       "    <tr>\n",
       "      <th>0</th>\n",
       "      <td>stalked</td>\n",
       "      <td>4</td>\n",
       "    </tr>\n",
       "    <tr>\n",
       "      <th>8</th>\n",
       "      <td>natural disaster</td>\n",
       "      <td>4</td>\n",
       "    </tr>\n",
       "    <tr>\n",
       "      <th>3</th>\n",
       "      <td>beaten up as a child by caregiver</td>\n",
       "      <td>3</td>\n",
       "    </tr>\n",
       "    <tr>\n",
       "      <th>16</th>\n",
       "      <td>life-threatening accident</td>\n",
       "      <td>3</td>\n",
       "    </tr>\n",
       "    <tr>\n",
       "      <th>5</th>\n",
       "      <td>beaten by somebody else</td>\n",
       "      <td>2</td>\n",
       "    </tr>\n",
       "    <tr>\n",
       "      <th>10</th>\n",
       "      <td>mugged or threatened with a weapon</td>\n",
       "      <td>2</td>\n",
       "    </tr>\n",
       "    <tr>\n",
       "      <th>2</th>\n",
       "      <td>child's serious illness</td>\n",
       "      <td>2</td>\n",
       "    </tr>\n",
       "    <tr>\n",
       "      <th>15</th>\n",
       "      <td>witnessed death or dead body or saw someone se...</td>\n",
       "      <td>2</td>\n",
       "    </tr>\n",
       "    <tr>\n",
       "      <th>12</th>\n",
       "      <td>traumatic event to love one</td>\n",
       "      <td>1</td>\n",
       "    </tr>\n",
       "    <tr>\n",
       "      <th>13</th>\n",
       "      <td>accidentally caused serious injury or death</td>\n",
       "      <td>1</td>\n",
       "    </tr>\n",
       "    <tr>\n",
       "      <th>14</th>\n",
       "      <td>man-made disaster</td>\n",
       "      <td>1</td>\n",
       "    </tr>\n",
       "  </tbody>\n",
       "</table>\n",
       "</div>"
      ],
      "text/plain": [
       "                                                    0  count\n",
       "4                     unexpected death of a loved one     25\n",
       "9                                               raped      9\n",
       "1                    witnessed physical fight at home      8\n",
       "6           beaten up by a spouse or romantic partner      8\n",
       "7                                  sexually assaulted      6\n",
       "11                                automobile accident      6\n",
       "0                                             stalked      4\n",
       "8                                    natural disaster      4\n",
       "3                   beaten up as a child by caregiver      3\n",
       "16                          life-threatening accident      3\n",
       "5                             beaten by somebody else      2\n",
       "10                 mugged or threatened with a weapon      2\n",
       "2                             child's serious illness      2\n",
       "15  witnessed death or dead body or saw someone se...      2\n",
       "12                        traumatic event to love one      1\n",
       "13        accidentally caused serious injury or death      1\n",
       "14                                  man-made disaster      1"
      ]
     },
     "execution_count": 60,
     "metadata": {},
     "output_type": "execute_result"
    }
   ],
   "source": [
    "df  = pd.read_excel('STATA_booklet_LJH.xlsx','original_STATA')\n",
    "event = df['pt59']\n",
    "\n",
    "event = pd.concat([finalID,event],axis=1)\n",
    "event = event.dropna(axis=0, how='any')\n",
    "event = event.drop(['ID'], axis=1)\n",
    "\n",
    "eventCount = pd.DataFrame(event[\"pt59\"].unique())\n",
    "eventCount['count']=0\n",
    "\n",
    "for i in range(0,len(eventCount)):\n",
    "    idx = event == eventCount.iloc[i,0]\n",
    "   \n",
    "    eventCount.iloc[i,1] = idx['pt59'].sum()\n",
    "\n",
    "eventCount = eventCount.sort_values(\"count\",ascending = False)\n",
    "eventCount"
   ]
  },
  {
   "cell_type": "code",
   "execution_count": 99,
   "metadata": {},
   "outputs": [
    {
     "data": {
      "image/png": "[encoded data removed]",
      "text/plain": [
       "<matplotlib.figure.Figure at 0xd3c1438>"
      ]
     },
     "metadata": {},
     "output_type": "display_data"
    }
   ],
   "source": [
    "import matplotlib.pyplot as plt\n",
    " \n",
    "# create plot\n",
    "\n",
    "bar_width = .8\n",
    "opacity = 1\n",
    "font = {'family' : 'normal',\n",
    "        'size'   : 10}\n",
    "\n",
    "plt.rc('font', **font)\n",
    "plt.rcParams[\"figure.figsize\"] = [9, 6]\n",
    "\n",
    "plt.barh(range(len(eventCount)),eventCount['count'], \n",
    "                 bar_width,\n",
    "                 alpha=opacity,\n",
    "                 color=[0.9,0.9,0.9],\n",
    "                 edgecolor ='k',\n",
    "                 label='Frank')\n",
    "\n",
    "plt.yticks(range(len(eventCount)), eventCount.iloc[:,0])\n",
    "plt.xlabel('Frequency')\n",
    "plt.ylabel('Events')\n",
    "plt.title('Most Traumatic Events')\n",
    "plt.tight_layout()\n",
    "plt.savefig('Figure1_test.png')\n",
    "plt.show()\n"
   ]
  },
  {
   "cell_type": "code",
   "execution_count": 91,
   "metadata": {},
   "outputs": [
    {
     "data": {
      "text/plain": [
       "Index([0, 'count'], dtype='object')"
      ]
     },
     "execution_count": 91,
     "metadata": {},
     "output_type": "execute_result"
    }
   ],
   "source": [
    "eventCount.columns"
   ]
  },
  {
   "cell_type": "code",
   "execution_count": null,
   "metadata": {
    "collapsed": true
   },
   "outputs": [],
   "source": []
  }
 ],
 "metadata": {
  "kernelspec": {
   "display_name": "Python 3",
   "language": "python",
   "name": "python3"
  },
  "language_info": {
   "codemirror_mode": {
    "name": "ipython",
    "version": 3
   },
   "file_extension": ".py",
   "mimetype": "text/x-python",
   "name": "python",
   "nbconvert_exporter": "python",
   "pygments_lexer": "ipython3",
   "version": "3.6.3"
  }
 },
 "nbformat": 4,
 "nbformat_minor": 2
}
