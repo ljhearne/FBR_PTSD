{
 "cells": [
  {
   "cell_type": "markdown",
   "metadata": {},
   "source": [
    "### This code converts STATA files"
   ]
  },
  {
   "cell_type": "code",
   "execution_count": 2,
   "metadata": {},
   "outputs": [],
   "source": [
    "import pandas as pd\n",
    "#file = 'STATA file convert/booklet ptsd icd diag ALL VARS.dta'\n",
    "#data = pd.io.stata.read_stata(file)\n",
    "#data.to_csv('convertdat2.csv')"
   ]
  },
  {
   "cell_type": "code",
   "execution_count": 13,
   "metadata": {
    "collapsed": true
   },
   "outputs": [],
   "source": [
    "import csv\n",
    "labels = pd.io.stata.StataReader(file).variable_labels()\n",
    "\n",
    "with open('convertdata_labels.csv','w') as newFile:\n",
    "    newFileWriter = csv.writer(newFile)\n",
    "    newFileWriter.writerow(labels)"
   ]
  }
 ],
 "metadata": {
  "kernelspec": {
   "display_name": "Python 3",
   "language": "python",
   "name": "python3"
  },
  "language_info": {
   "codemirror_mode": {
    "name": "ipython",
    "version": 3
   },
   "file_extension": ".py",
   "mimetype": "text/x-python",
   "name": "python",
   "nbconvert_exporter": "python",
   "pygments_lexer": "ipython3",
   "version": "3.6.3"
  }
 },
 "nbformat": 4,
 "nbformat_minor": 2
}
